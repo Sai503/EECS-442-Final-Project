{
 "cells": [
  {
   "cell_type": "markdown",
   "id": "1deb7e63-0f2a-400b-a469-3c00e0155fa8",
   "metadata": {},
   "source": [
    "# Facenet recreation\n",
    "Google facenet recreation"
   ]
  },
  {
   "cell_type": "code",
   "execution_count": null,
   "id": "f9ab0145-5c39-48a4-a6b3-65ecf44edead",
   "metadata": {},
   "outputs": [],
   "source": []
  }
 ],
 "metadata": {
  "kernelspec": {
   "display_name": "Python 3 (ipykernel)",
   "language": "python",
   "name": "python3"
  },
  "language_info": {
   "codemirror_mode": {
    "name": "ipython",
    "version": 3
   },
   "file_extension": ".py",
   "mimetype": "text/x-python",
   "name": "python",
   "nbconvert_exporter": "python",
   "pygments_lexer": "ipython3",
   "version": "3.11.3"
  }
 },
 "nbformat": 4,
 "nbformat_minor": 5
}
